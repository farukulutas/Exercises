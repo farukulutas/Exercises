{
  "nbformat": 4,
  "nbformat_minor": 0,
  "metadata": {
    "colab": {
      "name": "NumPy Bootcamp Graded Hands-on Exercise.ipynb",
      "provenance": []
    },
    "kernelspec": {
      "name": "python3",
      "display_name": "Python 3"
    },
    "language_info": {
      "name": "python"
    }
  },
  "cells": [
    {
      "cell_type": "markdown",
      "metadata": {
        "id": "OZpduK2BJvzZ"
      },
      "source": [
        "### **Overview**\n",
        "\n",
        "Dear Learner, \n",
        "\n",
        "Congratulations, you have studied NumPy all the way through the end of this bootcamp!!! This is the final graded hands-on exercise where you will be accomplishing the below mentioned task.\n",
        "\n",
        "**Author:** Avantika Podar"
      ]
    },
    {
      "cell_type": "markdown",
      "metadata": {
        "id": "UC6lZAsJLiFg"
      },
      "source": [
        "###Task 1:   \n",
        "\n",
        "Construct a random 3x28x28 NumPy array called *original* to represent an image and then convert this into into a 1x(3x28x28) array called *flat*. This converts it into a single row of pixels. Next, convert this to a 1D array (flatten the array using flat.flatten()). Print shape of all arrays. You may use the random function to generate the array.\n",
        "\n"
      ]
    },
    {
      "cell_type": "code",
      "metadata": {
        "id": "Qno3FG8M9RXZ"
      },
      "source": [
        "import numpy as np\n",
        "\n",
        "original = np.random.randint(0,255,(3,28,28))\n",
        "flat = original.reshape(1,3,28,28)\n",
        "flatted = flat.flatten()"
      ],
      "execution_count": null,
      "outputs": []
    },
    {
      "cell_type": "code",
      "source": [
        "original"
      ],
      "metadata": {
        "colab": {
          "base_uri": "https://localhost:8080/"
        },
        "id": "weS9ryYmaANj",
        "outputId": "286cf8f5-8321-45dc-a8a2-46e738ce6346"
      },
      "execution_count": null,
      "outputs": [
        {
          "output_type": "execute_result",
          "data": {
            "text/plain": [
              "array([[[161,  95,  11, ..., 194,  17,  98],\n",
              "        [144, 174,  34, ..., 229, 252,  27],\n",
              "        [236, 197,  36, ..., 145, 196,  27],\n",
              "        ...,\n",
              "        [243,  48, 233, ..., 207, 110, 135],\n",
              "        [155, 108, 136, ...,  19, 190, 148],\n",
              "        [157, 195, 189, ..., 198,  85,   3]],\n",
              "\n",
              "       [[ 99, 156, 184, ..., 100,   7, 114],\n",
              "        [207, 253, 132, ..., 242, 136, 155],\n",
              "        [ 28, 205, 222, ...,  49, 147,  50],\n",
              "        ...,\n",
              "        [214, 175, 174, ..., 208, 108, 193],\n",
              "        [ 73, 127,  13, ..., 150, 124,  88],\n",
              "        [ 49,  88, 240, ..., 211,  14,  40]],\n",
              "\n",
              "       [[ 72,  64, 152, ..., 249, 147,  50],\n",
              "        [180,  34,  91, ...,  48,  16, 186],\n",
              "        [222,  30, 218, ..., 193,  91, 254],\n",
              "        ...,\n",
              "        [191,  47, 219, ...,  18, 106, 210],\n",
              "        [ 96,  59, 151, ...,  48,  27,  90],\n",
              "        [151,  73, 193, ..., 216,  85,  40]]])"
            ]
          },
          "metadata": {},
          "execution_count": 17
        }
      ]
    },
    {
      "cell_type": "code",
      "source": [
        "flat"
      ],
      "metadata": {
        "colab": {
          "base_uri": "https://localhost:8080/"
        },
        "id": "PzQPXezWaBxs",
        "outputId": "c9c89252-059b-4287-e7d3-95c4a20d0b28"
      },
      "execution_count": null,
      "outputs": [
        {
          "output_type": "execute_result",
          "data": {
            "text/plain": [
              "array([[[[161,  95,  11, ..., 194,  17,  98],\n",
              "         [144, 174,  34, ..., 229, 252,  27],\n",
              "         [236, 197,  36, ..., 145, 196,  27],\n",
              "         ...,\n",
              "         [243,  48, 233, ..., 207, 110, 135],\n",
              "         [155, 108, 136, ...,  19, 190, 148],\n",
              "         [157, 195, 189, ..., 198,  85,   3]],\n",
              "\n",
              "        [[ 99, 156, 184, ..., 100,   7, 114],\n",
              "         [207, 253, 132, ..., 242, 136, 155],\n",
              "         [ 28, 205, 222, ...,  49, 147,  50],\n",
              "         ...,\n",
              "         [214, 175, 174, ..., 208, 108, 193],\n",
              "         [ 73, 127,  13, ..., 150, 124,  88],\n",
              "         [ 49,  88, 240, ..., 211,  14,  40]],\n",
              "\n",
              "        [[ 72,  64, 152, ..., 249, 147,  50],\n",
              "         [180,  34,  91, ...,  48,  16, 186],\n",
              "         [222,  30, 218, ..., 193,  91, 254],\n",
              "         ...,\n",
              "         [191,  47, 219, ...,  18, 106, 210],\n",
              "         [ 96,  59, 151, ...,  48,  27,  90],\n",
              "         [151,  73, 193, ..., 216,  85,  40]]]])"
            ]
          },
          "metadata": {},
          "execution_count": 18
        }
      ]
    },
    {
      "cell_type": "code",
      "source": [
        "flatted"
      ],
      "metadata": {
        "colab": {
          "base_uri": "https://localhost:8080/"
        },
        "id": "DZcxMIIVaE56",
        "outputId": "de7c5b2d-6c1c-42f3-e838-4ad40e028969"
      },
      "execution_count": null,
      "outputs": [
        {
          "output_type": "execute_result",
          "data": {
            "text/plain": [
              "array([161,  95,  11, ..., 216,  85,  40])"
            ]
          },
          "metadata": {},
          "execution_count": 19
        }
      ]
    },
    {
      "cell_type": "markdown",
      "metadata": {
        "id": "eIcDegymM1tR"
      },
      "source": [
        "### Task 2: Print out the following: \n",
        "  * dimension of the arrays.\n",
        "  * memory address of the arrays (pointer).\n",
        "  * shape of the arrays.\n",
        "  * data types of the arrays. \n",
        "\n",
        "\n"
      ]
    },
    {
      "cell_type": "code",
      "metadata": {
        "id": "H9MUhbsn9Ych",
        "colab": {
          "base_uri": "https://localhost:8080/"
        },
        "outputId": "78b4f7f0-546f-4e79-a7c7-3c8fca24d242"
      },
      "source": [
        "print('Dimensions (original, flat, flatted):', original.ndim, flat.ndim, flatted.ndim)"
      ],
      "execution_count": null,
      "outputs": [
        {
          "output_type": "stream",
          "name": "stdout",
          "text": [
            "Dimensions (original, flat, flatted): 3 4 1\n"
          ]
        }
      ]
    },
    {
      "cell_type": "code",
      "source": [
        "print('Memory addrs (original, flat, flatted):', '\\n', original.data, '\\n', flat.data, '\\n', flatted.data)"
      ],
      "metadata": {
        "colab": {
          "base_uri": "https://localhost:8080/"
        },
        "id": "7nZNDDGvbBMT",
        "outputId": "c031c7d6-3c13-4375-c390-e1537ff4bce6"
      },
      "execution_count": null,
      "outputs": [
        {
          "output_type": "stream",
          "name": "stdout",
          "text": [
            "Memory addrs (original, flat, flatted): \n",
            " <memory at 0x7fe20f18e850> \n",
            " <memory at 0x7fe20f1406b0> \n",
            " <memory at 0x7fe20f193120>\n"
          ]
        }
      ]
    },
    {
      "cell_type": "code",
      "source": [
        "print('Shapes (original, flat, flatted):', '\\n', original.shape, '\\n', flat.shape, '\\n', flatted.shape)"
      ],
      "metadata": {
        "colab": {
          "base_uri": "https://localhost:8080/"
        },
        "id": "2-qYYR9ocJKm",
        "outputId": "eefbe0af-d3c1-4477-dbd3-76ba7230cad3"
      },
      "execution_count": null,
      "outputs": [
        {
          "output_type": "stream",
          "name": "stdout",
          "text": [
            "Shapes (original, flat, flatted): \n",
            " (3, 28, 28) \n",
            " (1, 3, 28, 28) \n",
            " (2352,)\n"
          ]
        }
      ]
    },
    {
      "cell_type": "code",
      "source": [
        "print('Dtypes (original, flat, flatted):', '\\n', original.dtype, '\\n', flat.dtype, '\\n', flatted.dtype)"
      ],
      "metadata": {
        "colab": {
          "base_uri": "https://localhost:8080/"
        },
        "id": "5bBoy7EIcXBT",
        "outputId": "9fdb22f2-8e68-4537-eac0-d95e22cde7a3"
      },
      "execution_count": null,
      "outputs": [
        {
          "output_type": "stream",
          "name": "stdout",
          "text": [
            "Dtypes (original, flat, flatted): \n",
            " int64 \n",
            " int64 \n",
            " int64\n"
          ]
        }
      ]
    },
    {
      "cell_type": "markdown",
      "metadata": {
        "id": "mZYl9CjBN9bg"
      },
      "source": [
        "### Task 3: \n",
        "Construct a new array which is a negative of the *original* array, i.e, all elements are negative of those in the *original* array. Print the new array. Add the original and new arrays. Print the result. "
      ]
    },
    {
      "cell_type": "code",
      "metadata": {
        "id": "0VCQBW-F933Z",
        "colab": {
          "base_uri": "https://localhost:8080/"
        },
        "outputId": "42f6b73a-2f7e-4e75-b78b-8a0a9de37b6f"
      },
      "source": [
        "negative = np.negative(original)\n",
        "negative"
      ],
      "execution_count": null,
      "outputs": [
        {
          "output_type": "execute_result",
          "data": {
            "text/plain": [
              "array([[[-161,  -95,  -11, ..., -194,  -17,  -98],\n",
              "        [-144, -174,  -34, ..., -229, -252,  -27],\n",
              "        [-236, -197,  -36, ..., -145, -196,  -27],\n",
              "        ...,\n",
              "        [-243,  -48, -233, ..., -207, -110, -135],\n",
              "        [-155, -108, -136, ...,  -19, -190, -148],\n",
              "        [-157, -195, -189, ..., -198,  -85,   -3]],\n",
              "\n",
              "       [[ -99, -156, -184, ..., -100,   -7, -114],\n",
              "        [-207, -253, -132, ..., -242, -136, -155],\n",
              "        [ -28, -205, -222, ...,  -49, -147,  -50],\n",
              "        ...,\n",
              "        [-214, -175, -174, ..., -208, -108, -193],\n",
              "        [ -73, -127,  -13, ..., -150, -124,  -88],\n",
              "        [ -49,  -88, -240, ..., -211,  -14,  -40]],\n",
              "\n",
              "       [[ -72,  -64, -152, ..., -249, -147,  -50],\n",
              "        [-180,  -34,  -91, ...,  -48,  -16, -186],\n",
              "        [-222,  -30, -218, ..., -193,  -91, -254],\n",
              "        ...,\n",
              "        [-191,  -47, -219, ...,  -18, -106, -210],\n",
              "        [ -96,  -59, -151, ...,  -48,  -27,  -90],\n",
              "        [-151,  -73, -193, ..., -216,  -85,  -40]]])"
            ]
          },
          "metadata": {},
          "execution_count": 35
        }
      ]
    },
    {
      "cell_type": "code",
      "source": [
        "sum = np.add(original, negative)\n",
        "sum"
      ],
      "metadata": {
        "colab": {
          "base_uri": "https://localhost:8080/"
        },
        "id": "E7uti3cfdGSn",
        "outputId": "b8746c97-c1de-4144-f114-1db377676dcd"
      },
      "execution_count": null,
      "outputs": [
        {
          "output_type": "execute_result",
          "data": {
            "text/plain": [
              "array([[[0, 0, 0, ..., 0, 0, 0],\n",
              "        [0, 0, 0, ..., 0, 0, 0],\n",
              "        [0, 0, 0, ..., 0, 0, 0],\n",
              "        ...,\n",
              "        [0, 0, 0, ..., 0, 0, 0],\n",
              "        [0, 0, 0, ..., 0, 0, 0],\n",
              "        [0, 0, 0, ..., 0, 0, 0]],\n",
              "\n",
              "       [[0, 0, 0, ..., 0, 0, 0],\n",
              "        [0, 0, 0, ..., 0, 0, 0],\n",
              "        [0, 0, 0, ..., 0, 0, 0],\n",
              "        ...,\n",
              "        [0, 0, 0, ..., 0, 0, 0],\n",
              "        [0, 0, 0, ..., 0, 0, 0],\n",
              "        [0, 0, 0, ..., 0, 0, 0]],\n",
              "\n",
              "       [[0, 0, 0, ..., 0, 0, 0],\n",
              "        [0, 0, 0, ..., 0, 0, 0],\n",
              "        [0, 0, 0, ..., 0, 0, 0],\n",
              "        ...,\n",
              "        [0, 0, 0, ..., 0, 0, 0],\n",
              "        [0, 0, 0, ..., 0, 0, 0],\n",
              "        [0, 0, 0, ..., 0, 0, 0]]])"
            ]
          },
          "metadata": {},
          "execution_count": 36
        }
      ]
    },
    {
      "cell_type": "markdown",
      "metadata": {
        "id": "4UKa56EzQXaU"
      },
      "source": [
        "###Task 4\n",
        "\n",
        "A 3x28x28 basically means 28x28 matrices repeated three times. How would you access the first 10 elements of the 2nd row of the second 28x28 matrix? Consider the original array for this. Print the elements."
      ]
    },
    {
      "cell_type": "code",
      "metadata": {
        "id": "bc0stgsY93Tn",
        "colab": {
          "base_uri": "https://localhost:8080/"
        },
        "outputId": "7cc04d7d-bbcf-411b-a772-16232feb2bb2"
      },
      "source": [
        "original[:,1,:10]"
      ],
      "execution_count": null,
      "outputs": [
        {
          "output_type": "execute_result",
          "data": {
            "text/plain": [
              "array([[144, 174,  34, 198, 218, 217,   9, 223, 135, 112],\n",
              "       [207, 253, 132, 226, 188,  83,  61,  13,  29, 225],\n",
              "       [180,  34,  91,  52,  21,   6, 236, 221,  63, 143]])"
            ]
          },
          "metadata": {},
          "execution_count": 38
        }
      ]
    },
    {
      "cell_type": "markdown",
      "metadata": {
        "id": "8USrPA7NdRXQ"
      },
      "source": [
        "### Task 5 \n",
        "A 3x28x28 image means 3 channels of Red, Green, or Blue (Popularly known as RGB image). Each color channel has a height and width, which is 28X28 in this case. The entire picture can represented through this method. Print the shape of the Blue pixel matrix and its first 3 rows."
      ]
    },
    {
      "cell_type": "code",
      "metadata": {
        "id": "bQCRmVPz92r7",
        "colab": {
          "base_uri": "https://localhost:8080/"
        },
        "outputId": "895640cd-9ddc-4532-df8f-4ae080db9398"
      },
      "source": [
        "blue = original[2]\n",
        "blue.shape"
      ],
      "execution_count": null,
      "outputs": [
        {
          "output_type": "execute_result",
          "data": {
            "text/plain": [
              "(28, 28)"
            ]
          },
          "metadata": {},
          "execution_count": 44
        }
      ]
    },
    {
      "cell_type": "code",
      "source": [
        "blue[0:3]"
      ],
      "metadata": {
        "colab": {
          "base_uri": "https://localhost:8080/"
        },
        "id": "KLdeGTs0eszd",
        "outputId": "3b495a7d-b1aa-4c58-9f38-58a4b901d4e9"
      },
      "execution_count": null,
      "outputs": [
        {
          "output_type": "execute_result",
          "data": {
            "text/plain": [
              "array([[ 72,  64, 152, 103, 105, 182,  92, 138,  93,  45, 195,  48,  58,\n",
              "        174,  41, 164, 148, 215,  16, 171, 226, 128, 121, 247, 191, 249,\n",
              "        147,  50],\n",
              "       [180,  34,  91,  52,  21,   6, 236, 221,  63, 143, 206, 220, 176,\n",
              "        128, 193, 219, 113,  18, 137, 214, 126, 125,  99, 168,  77,  48,\n",
              "         16, 186],\n",
              "       [222,  30, 218,  75, 175,  84,  68,  79, 220, 101, 159, 173, 206,\n",
              "        157,  70,   6, 214,  67,  85,   0, 130, 193, 165, 150,  38, 193,\n",
              "         91, 254]])"
            ]
          },
          "metadata": {},
          "execution_count": 45
        }
      ]
    },
    {
      "cell_type": "markdown",
      "metadata": {
        "id": "Nb9AZUweD-3m"
      },
      "source": [
        "### Task 6 \n",
        "Create a 1 dimensional numpy array of the first 50 even numbers. Convert this to a 10x5 numpy array and print its transpose. "
      ]
    },
    {
      "cell_type": "code",
      "metadata": {
        "id": "JJj-N-Kt92Nz",
        "colab": {
          "base_uri": "https://localhost:8080/"
        },
        "outputId": "ea318b3f-fa64-46c6-dd47-1d17c655e2a3"
      },
      "source": [
        "even = np.arange(100,step=2)\n",
        "matrix = even.reshape(10,5)\n",
        "print(matrix)"
      ],
      "execution_count": null,
      "outputs": [
        {
          "output_type": "stream",
          "name": "stdout",
          "text": [
            "[[ 0  2  4  6  8]\n",
            " [10 12 14 16 18]\n",
            " [20 22 24 26 28]\n",
            " [30 32 34 36 38]\n",
            " [40 42 44 46 48]\n",
            " [50 52 54 56 58]\n",
            " [60 62 64 66 68]\n",
            " [70 72 74 76 78]\n",
            " [80 82 84 86 88]\n",
            " [90 92 94 96 98]]\n"
          ]
        }
      ]
    },
    {
      "cell_type": "code",
      "source": [
        "matrix.transpose()"
      ],
      "metadata": {
        "colab": {
          "base_uri": "https://localhost:8080/"
        },
        "id": "KO9A4VPuj5kG",
        "outputId": "ea74bf55-31cb-480d-cc34-62d07bc731a6"
      },
      "execution_count": null,
      "outputs": [
        {
          "output_type": "execute_result",
          "data": {
            "text/plain": [
              "array([[ 0, 10, 20, 30, 40, 50, 60, 70, 80, 90],\n",
              "       [ 2, 12, 22, 32, 42, 52, 62, 72, 82, 92],\n",
              "       [ 4, 14, 24, 34, 44, 54, 64, 74, 84, 94],\n",
              "       [ 6, 16, 26, 36, 46, 56, 66, 76, 86, 96],\n",
              "       [ 8, 18, 28, 38, 48, 58, 68, 78, 88, 98]])"
            ]
          },
          "metadata": {},
          "execution_count": 77
        }
      ]
    },
    {
      "cell_type": "markdown",
      "metadata": {
        "id": "ITBNUk5dHu0f"
      },
      "source": [
        "###Task 7 \n",
        "Consider the 10x5 array created in Task 6. Find the mean of each row and column. You may use in built functions or write your own code."
      ]
    },
    {
      "cell_type": "code",
      "source": [
        "for i in range(0,10):\n",
        "  print( 'Mean of row ', i , ' ', np.mean(matrix[i], axis=0))"
      ],
      "metadata": {
        "id": "qYrg2g-jVduw",
        "colab": {
          "base_uri": "https://localhost:8080/"
        },
        "outputId": "2571a922-66e3-4675-a91c-980f1bc541f9"
      },
      "execution_count": null,
      "outputs": [
        {
          "output_type": "stream",
          "name": "stdout",
          "text": [
            "Mean of row  0   4.0\n",
            "Mean of row  1   14.0\n",
            "Mean of row  2   24.0\n",
            "Mean of row  3   34.0\n",
            "Mean of row  4   44.0\n",
            "Mean of row  5   54.0\n",
            "Mean of row  6   64.0\n",
            "Mean of row  7   74.0\n",
            "Mean of row  8   84.0\n",
            "Mean of row  9   94.0\n",
            "\n",
            "Mean of cols  [45. 47. 49. 51. 53.]\n"
          ]
        }
      ]
    },
    {
      "cell_type": "code",
      "metadata": {
        "id": "9bFi6vVf91oY",
        "colab": {
          "base_uri": "https://localhost:8080/"
        },
        "outputId": "e6ed83f8-66bc-425f-ef1d-b6b1f0e2a403"
      },
      "source": [
        "print('Mean of cols', matrix.mean(axis=0))"
      ],
      "execution_count": null,
      "outputs": [
        {
          "output_type": "stream",
          "name": "stdout",
          "text": [
            "Mean of cols [45. 47. 49. 51. 53.]\n"
          ]
        }
      ]
    },
    {
      "cell_type": "markdown",
      "metadata": {
        "id": "WEHBWo7AGXKK"
      },
      "source": [
        "### Task 8\n",
        "Can we create a 3x3 array of the first 50 even numbers? Why or why not? What are other values of m and n for which mxn dimension is allowed for 50 elements?"
      ]
    },
    {
      "cell_type": "markdown",
      "source": [
        "We cannot create a 3x3 array with 50 elements. Since the 3x3 matrix contains only 9 elements. All values ​​with products of 50 and above can be used, with m*n being real numbers. For instance, m=1 and n=50;\n",
        "m * n >= 50."
      ],
      "metadata": {
        "id": "Dyb1PqHdl3Hi"
      }
    }
  ]
}