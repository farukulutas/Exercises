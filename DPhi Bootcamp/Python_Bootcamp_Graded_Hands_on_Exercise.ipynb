{
  "cells": [
    {
      "cell_type": "markdown",
      "metadata": {
        "id": "A8yCrhVHQ_lC"
      },
      "source": [
        "##Overview\n",
        "\n",
        "Dear Learner, \n",
        "\n",
        "Congratulations, you have studied Python all the way through the end of this bootcamp!!! This is the final graded hands-on exercise where you will be accomplishing the below mentioned task.\n",
        "\n",
        "Authors: Albana Celepija, Vinayak Deshpande"
      ]
    },
    {
      "cell_type": "markdown",
      "metadata": {
        "id": "y_B39vCQGRTH"
      },
      "source": [
        "###Task 1\n",
        "\n",
        "We have declared a tuple containing five same elements as following:\n",
        "T = (‘python’, ‘python’, ‘python’, ‘python’, ‘python’).\n",
        "Re-write the same code in an optimal/simple way that fetches the same result."
      ]
    },
    {
      "cell_type": "code",
      "execution_count": 6,
      "metadata": {
        "colab": {
          "base_uri": "https://localhost:8080/"
        },
        "id": "5snhhWT5aRJG",
        "outputId": "64924957-b178-441b-d7a9-9389278baafa"
      },
      "outputs": [
        {
          "name": "stdout",
          "output_type": "stream",
          "text": [
            "('python', 'python', 'python', 'python', 'python')\n"
          ]
        }
      ],
      "source": [
        "T = (('python'),) * 5\n",
        "#T = ('python', 'python', 'python', 'python', 'python')\n",
        "print(T)"
      ]
    },
    {
      "cell_type": "markdown",
      "metadata": {
        "id": "H_8tFcijGRTQ"
      },
      "source": [
        "###Task 2\n",
        "\n",
        "Write code to print characters from a string that are present at an even index number.\n",
        "For example, if your input string is \"python\", the output characters will be (p,t,o)."
      ]
    },
    {
      "cell_type": "code",
      "execution_count": 9,
      "metadata": {
        "colab": {
          "base_uri": "https://localhost:8080/"
        },
        "id": "fm7mWawta41v",
        "outputId": "41b076ae-7f1b-46c2-f5d5-3ac5599958f4"
      },
      "outputs": [
        {
          "name": "stdout",
          "output_type": "stream",
          "text": [
            "p\n",
            "t\n",
            "o\n"
          ]
        }
      ],
      "source": [
        "inp = \"python\"\n",
        "\n",
        "for i in range(len(inp)):\n",
        "  if ( i % 2 == 0 ):\n",
        "    print(inp[i])"
      ]
    },
    {
      "cell_type": "markdown",
      "metadata": {
        "id": "FbLVbwcsGRTT"
      },
      "source": [
        "### Task 3\n",
        "\n",
        "Write a function that calculates the average of the elements of the list: \n",
        "\n",
        "elements = [5, 7, 4, 9, 2]\n"
      ]
    },
    {
      "cell_type": "code",
      "execution_count": 16,
      "metadata": {
        "colab": {
          "base_uri": "https://localhost:8080/"
        },
        "id": "FM4XzShWcDGS",
        "outputId": "a7036039-b684-448a-8a00-9108bcf817ff"
      },
      "outputs": [
        {
          "name": "stdout",
          "output_type": "stream",
          "text": [
            "Average of the elements: 5.4\n"
          ]
        }
      ],
      "source": [
        "elements = [5, 7, 4, 9, 2]\n",
        "\n",
        "def calculate_avg( list):\n",
        "    print(\"Average of the elements: \" + str(sum(list) / len(list)))\n",
        "\n",
        "calculate_avg(elements)"
      ]
    },
    {
      "cell_type": "markdown",
      "metadata": {
        "id": "2pzfM3wS4oqt"
      },
      "source": [
        "### Task 4\n",
        "Write code to find if the given year is a leap year or not."
      ]
    },
    {
      "cell_type": "code",
      "execution_count": 19,
      "metadata": {
        "colab": {
          "base_uri": "https://localhost:8080/"
        },
        "id": "7VolsGWJc7Ga",
        "outputId": "7897a4c3-327d-4789-9956-ba19dfd44070"
      },
      "outputs": [
        {
          "name": "stdout",
          "output_type": "stream",
          "text": [
            "LEAP YEAR\n"
          ]
        }
      ],
      "source": [
        "year = 2000\n",
        "if ( year % 4 == 0 ):\n",
        "  print(\"LEAP YEAR\")\n",
        "else:\n",
        "  print(\"NOT leap year\")"
      ]
    },
    {
      "cell_type": "markdown",
      "metadata": {
        "id": "zsVw9yrD5drx"
      },
      "source": [
        "### Task 5\n",
        "Given a list of numbers (integers), find the sum of second maximum and second minimum in the following list.\n",
        "\n",
        "l = [21, 6, 12, 57, 35, 61]"
      ]
    },
    {
      "cell_type": "code",
      "execution_count": 25,
      "metadata": {
        "colab": {
          "base_uri": "https://localhost:8080/"
        },
        "id": "XiqiyE6rdJPs",
        "outputId": "874c511c-bfa3-4e2c-c7a0-616b3eaa1ce3"
      },
      "outputs": [
        {
          "name": "stdout",
          "output_type": "stream",
          "text": [
            "69\n"
          ]
        }
      ],
      "source": [
        "l = [21, 6, 12, 57, 35, 61]\n",
        "l.sort()\n",
        "print(l[1] + l[-2])"
      ]
    },
    {
      "cell_type": "markdown",
      "metadata": {
        "id": "ftPUY0J_pfa-"
      },
      "source": [
        "##Scores\n",
        "\n",
        "Each of the tasks is of 2 mark each and the scores will be given accordingly after the notebook review."
      ]
    }
  ],
  "metadata": {
    "colab": {
      "collapsed_sections": [],
      "name": "Python Bootcamp Graded Hands-on Exercise.ipynb",
      "provenance": []
    },
    "kernelspec": {
      "display_name": "Python 3",
      "language": "python",
      "name": "python3"
    },
    "language_info": {
      "codemirror_mode": {
        "name": "ipython",
        "version": 3
      },
      "file_extension": ".py",
      "mimetype": "text/x-python",
      "name": "python",
      "nbconvert_exporter": "python",
      "pygments_lexer": "ipython3",
      "version": "3.7.6"
    }
  },
  "nbformat": 4,
  "nbformat_minor": 0
}
