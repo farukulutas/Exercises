{
  "nbformat": 4,
  "nbformat_minor": 0,
  "metadata": {
    "colab": {
      "name": "NLP Bootcamp Graded Datathon.ipynb",
      "provenance": []
    },
    "kernelspec": {
      "name": "python3",
      "display_name": "Python 3"
    },
    "language_info": {
      "name": "python"
    }
  },
  "cells": [
    {
      "cell_type": "code",
      "execution_count": 189,
      "metadata": {
        "id": "EE9qq_PBcXmO",
        "colab": {
          "base_uri": "https://localhost:8080/"
        },
        "outputId": "efe8e1e1-043c-4eae-fc54-e1daed4b0f9c"
      },
      "outputs": [
        {
          "output_type": "stream",
          "name": "stdout",
          "text": [
            "                                            headline  is_sarcastic\n",
            "0  supreme court votes 7-2 to legalize all worldl...             1\n",
            "1  hungover man horrified to learn he made dozens...             1\n",
            "2  emily's list founder: women are the 'problem s...             0\n",
            "3      send your kids back to school with confidence             0\n",
            "4          watch: experts talk pesticides and health             0\n"
          ]
        }
      ],
      "source": [
        "# Importing required libraries\n",
        "import pandas as pd\n",
        "import numpy as np\n",
        "import string\n",
        "from sklearn.feature_extraction.text import CountVectorizer\n",
        "from sklearn.model_selection import train_test_split\n",
        "from sklearn.naive_bayes import BernoulliNB\n",
        "from contractions import fix\n",
        "\n",
        "# Reading train and test csv files\n",
        "df_train = pd.read_csv(\"/content/drive/MyDrive/Train_Dataset.csv\")\n",
        "df_test = pd.read_csv('/content/drive/MyDrive/Test_Dataset.csv')\n",
        "print(df_train.head())"
      ]
    },
    {
      "cell_type": "code",
      "source": [
        "# Function for removing punctuation in headlines\n",
        "def remove_punctuations(x:str):\n",
        "    lst = list(x)\n",
        "    lst = [i for i in lst if i not in string.punctuation]\n",
        "    final = ''.join(lst)\n",
        "    return final"
      ],
      "metadata": {
        "id": "YBl2lNuNs042"
      },
      "execution_count": 190,
      "outputs": []
    },
    {
      "cell_type": "code",
      "source": [
        "# Removing punctuation marks\n",
        "df_train['headline'] = df_train['headline'].apply(lambda x: remove_punctuations(x))\n",
        "df_test['headline'] = df_test['headline'].apply(lambda x: remove_punctuations(x))\n",
        "\n",
        "# Expanding abbreviated words\n",
        "df_train['headline'] = df_train['headline'].apply(lambda x: fix(x))\n",
        "df_test['headline'] = df_test['headline'].apply(lambda x: fix(x))\n",
        "\n",
        "# x, y separation of inputs and outputs of train dataframe\n",
        "df_train = df_train[[\"headline\", \"is_sarcastic\"]]\n",
        "x = np.array(df_train[\"headline\"])\n",
        "y = np.array(df_train[\"is_sarcastic\"])\n",
        "\n",
        "# Converting text collection to number of token matrices using cv.fit_transform\n",
        "cv = CountVectorizer()\n",
        "X = cv.fit_transform(x)\n",
        "\n",
        "# Brute force approach to find the size that gives the maximum score\n",
        "score = 0\n",
        "should_size = 0\n",
        "for i in range(1, 100, 1):\n",
        "  a = i * 0.01\n",
        "  X_train, X_test, y_train, y_test = train_test_split(X, y, test_size=a, random_state=1)\n",
        "  model = BernoulliNB()\n",
        "  model.fit(X_train, y_train)\n",
        "  new_score = model.score(X_test, y_test)\n",
        "  if ( new_score > score):\n",
        "    score = new_score\n",
        "    should_size = a\n",
        "\n",
        "print(should_size, 'is the size that gives the max score', score)"
      ],
      "metadata": {
        "colab": {
          "base_uri": "https://localhost:8080/"
        },
        "id": "mhp_d5u7rQKF",
        "outputId": "c4a1f1b7-8d98-46fd-e786-f694e5a6044a"
      },
      "execution_count": 191,
      "outputs": [
        {
          "output_type": "stream",
          "name": "stdout",
          "text": [
            "0.13 is the size that gives the max score 0.8988705473501303\n"
          ]
        }
      ]
    },
    {
      "cell_type": "code",
      "source": [
        "# Separation of 13% to 87% of the data set as train and test\n",
        "# Random_state has been added for debug processes if necessary\n",
        "X_train, X_test, y_train, y_test = train_test_split(X, y, test_size=should_size, random_state=1)\n",
        "\n",
        "# Creating and fitting a probabilistic Bernoulli Naive Bayes model\n",
        "model = BernoulliNB()\n",
        "model.fit(X_train, y_train)\n",
        "print(model.score(X_test, y_test))\n",
        "\n",
        "# Read each line in the test data frame, \n",
        "# estimate the model and write the result to the res_list. \n",
        "res_list = []\n",
        "for w in df_test['headline']:\n",
        "  data = cv.transform([w]).toarray()\n",
        "  res_list.append(model.predict(data))\n",
        "\n",
        "# Creating data frame using result list and then exporting to csv file\n",
        "res_df = pd.DataFrame(res_list, columns=[\"prediction\"])\n",
        "res_df.to_csv('submission.csv', index=False)"
      ],
      "metadata": {
        "colab": {
          "base_uri": "https://localhost:8080/"
        },
        "id": "c3tZICKurOTl",
        "outputId": "42802ff7-3a98-4182-8443-d8dcb8fc9ecb"
      },
      "execution_count": 192,
      "outputs": [
        {
          "output_type": "stream",
          "name": "stdout",
          "text": [
            "0.8988705473501303\n"
          ]
        }
      ]
    }
  ]
}