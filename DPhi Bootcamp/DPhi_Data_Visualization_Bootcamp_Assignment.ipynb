{
  "nbformat": 4,
  "nbformat_minor": 0,
  "metadata": {
    "colab": {
      "name": "DPhi Data Visualization Bootcamp Assignment.ipynb adlı not defterinin kopyası",
      "provenance": [],
      "collapsed_sections": []
    },
    "kernelspec": {
      "name": "python3",
      "display_name": "Python 3"
    },
    "language_info": {
      "name": "python"
    }
  },
  "cells": [
    {
      "cell_type": "markdown",
      "source": [
        "# DPhi Data Visualization Assignment Details\n",
        "\n",
        "Dear Learner, \n",
        "\n",
        "Congratulations, you have studied Data Visualization all the way through the end of this bootcamp!!! This is the final graded hands-on exercise where you will be accomplishing the below mentioned task."
      ],
      "metadata": {
        "id": "gAcWVKAu7-XY"
      }
    },
    {
      "cell_type": "markdown",
      "source": [
        "# Step 1: Select a Tabular Dataset of your choice\n",
        "\n",
        "*   https://www.kdnuggets.com/datasets/index.html\n",
        "*   https://dphi.tech/challenges/#past \n",
        "* https://pub.towardsai.net/best-datasets-for-machine-learning-data-science-computer-vision-nlp-ai-c9541058cf4f  \n",
        "* https://medium.com/analytics-vidhya/top-100-open-source-datasets-for-data-science-cd5a8d67cc3d\n",
        "\n",
        "or you can pick any dataset of your interest on the internet and add reference to it\n"
      ],
      "metadata": {
        "id": "rwrGCwC28gYK"
      }
    },
    {
      "cell_type": "markdown",
      "source": [
        "# Evaluation Criteria\n",
        "\n",
        "Your submission will be evaluated using the following criteria:\n",
        "\n",
        "* You must ensure that the dataset is tabular.  \n",
        "* You must ask and answer at least 3 questions about the dataset\n",
        "*   Your submission must include at least 3 visualizations (graphs)\n",
        "*   Your submission must include explanations using markdown cells, apart from the code.\n",
        "*   Your work must not be plagiarized i.e. copied for somewhere else."
      ],
      "metadata": {
        "id": "mQSgxz6r3gBg"
      }
    },
    {
      "cell_type": "code",
      "source": [
        "import matplotlib.pyplot as plt\n",
        "import pandas as pd\n",
        "data = pd.read_csv(\"https://raw.githubusercontent.com/vincentarelbundock/Rdatasets/master/csv/MASS/Boston.csv\")\n",
        "data = data.iloc[0:, 1:]\n",
        "data_frame = data\n",
        "data"
      ],
      "metadata": {
        "id": "NJ1Jr5bY9koD",
        "outputId": "7f6b2913-0238-4297-dff4-97c8ed55d6fe",
        "colab": {
          "base_uri": "https://localhost:8080/",
          "height": 424
        }
      },
      "execution_count": 6,
      "outputs": [
        {
          "output_type": "execute_result",
          "data": {
            "text/html": [
              "\n",
              "  <div id=\"df-aa4fa5f8-d239-4c7e-863e-7504fa7d466f\">\n",
              "    <div class=\"colab-df-container\">\n",
              "      <div>\n",
              "<style scoped>\n",
              "    .dataframe tbody tr th:only-of-type {\n",
              "        vertical-align: middle;\n",
              "    }\n",
              "\n",
              "    .dataframe tbody tr th {\n",
              "        vertical-align: top;\n",
              "    }\n",
              "\n",
              "    .dataframe thead th {\n",
              "        text-align: right;\n",
              "    }\n",
              "</style>\n",
              "<table border=\"1\" class=\"dataframe\">\n",
              "  <thead>\n",
              "    <tr style=\"text-align: right;\">\n",
              "      <th></th>\n",
              "      <th>crim</th>\n",
              "      <th>zn</th>\n",
              "      <th>indus</th>\n",
              "      <th>chas</th>\n",
              "      <th>nox</th>\n",
              "      <th>rm</th>\n",
              "      <th>age</th>\n",
              "      <th>dis</th>\n",
              "      <th>rad</th>\n",
              "      <th>tax</th>\n",
              "      <th>ptratio</th>\n",
              "      <th>black</th>\n",
              "      <th>lstat</th>\n",
              "      <th>medv</th>\n",
              "    </tr>\n",
              "  </thead>\n",
              "  <tbody>\n",
              "    <tr>\n",
              "      <th>0</th>\n",
              "      <td>0.00632</td>\n",
              "      <td>18.0</td>\n",
              "      <td>2.31</td>\n",
              "      <td>0</td>\n",
              "      <td>0.538</td>\n",
              "      <td>6.575</td>\n",
              "      <td>65.2</td>\n",
              "      <td>4.0900</td>\n",
              "      <td>1</td>\n",
              "      <td>296</td>\n",
              "      <td>15.3</td>\n",
              "      <td>396.90</td>\n",
              "      <td>4.98</td>\n",
              "      <td>24.0</td>\n",
              "    </tr>\n",
              "    <tr>\n",
              "      <th>1</th>\n",
              "      <td>0.02731</td>\n",
              "      <td>0.0</td>\n",
              "      <td>7.07</td>\n",
              "      <td>0</td>\n",
              "      <td>0.469</td>\n",
              "      <td>6.421</td>\n",
              "      <td>78.9</td>\n",
              "      <td>4.9671</td>\n",
              "      <td>2</td>\n",
              "      <td>242</td>\n",
              "      <td>17.8</td>\n",
              "      <td>396.90</td>\n",
              "      <td>9.14</td>\n",
              "      <td>21.6</td>\n",
              "    </tr>\n",
              "    <tr>\n",
              "      <th>2</th>\n",
              "      <td>0.02729</td>\n",
              "      <td>0.0</td>\n",
              "      <td>7.07</td>\n",
              "      <td>0</td>\n",
              "      <td>0.469</td>\n",
              "      <td>7.185</td>\n",
              "      <td>61.1</td>\n",
              "      <td>4.9671</td>\n",
              "      <td>2</td>\n",
              "      <td>242</td>\n",
              "      <td>17.8</td>\n",
              "      <td>392.83</td>\n",
              "      <td>4.03</td>\n",
              "      <td>34.7</td>\n",
              "    </tr>\n",
              "    <tr>\n",
              "      <th>3</th>\n",
              "      <td>0.03237</td>\n",
              "      <td>0.0</td>\n",
              "      <td>2.18</td>\n",
              "      <td>0</td>\n",
              "      <td>0.458</td>\n",
              "      <td>6.998</td>\n",
              "      <td>45.8</td>\n",
              "      <td>6.0622</td>\n",
              "      <td>3</td>\n",
              "      <td>222</td>\n",
              "      <td>18.7</td>\n",
              "      <td>394.63</td>\n",
              "      <td>2.94</td>\n",
              "      <td>33.4</td>\n",
              "    </tr>\n",
              "    <tr>\n",
              "      <th>4</th>\n",
              "      <td>0.06905</td>\n",
              "      <td>0.0</td>\n",
              "      <td>2.18</td>\n",
              "      <td>0</td>\n",
              "      <td>0.458</td>\n",
              "      <td>7.147</td>\n",
              "      <td>54.2</td>\n",
              "      <td>6.0622</td>\n",
              "      <td>3</td>\n",
              "      <td>222</td>\n",
              "      <td>18.7</td>\n",
              "      <td>396.90</td>\n",
              "      <td>5.33</td>\n",
              "      <td>36.2</td>\n",
              "    </tr>\n",
              "    <tr>\n",
              "      <th>...</th>\n",
              "      <td>...</td>\n",
              "      <td>...</td>\n",
              "      <td>...</td>\n",
              "      <td>...</td>\n",
              "      <td>...</td>\n",
              "      <td>...</td>\n",
              "      <td>...</td>\n",
              "      <td>...</td>\n",
              "      <td>...</td>\n",
              "      <td>...</td>\n",
              "      <td>...</td>\n",
              "      <td>...</td>\n",
              "      <td>...</td>\n",
              "      <td>...</td>\n",
              "    </tr>\n",
              "    <tr>\n",
              "      <th>501</th>\n",
              "      <td>0.06263</td>\n",
              "      <td>0.0</td>\n",
              "      <td>11.93</td>\n",
              "      <td>0</td>\n",
              "      <td>0.573</td>\n",
              "      <td>6.593</td>\n",
              "      <td>69.1</td>\n",
              "      <td>2.4786</td>\n",
              "      <td>1</td>\n",
              "      <td>273</td>\n",
              "      <td>21.0</td>\n",
              "      <td>391.99</td>\n",
              "      <td>9.67</td>\n",
              "      <td>22.4</td>\n",
              "    </tr>\n",
              "    <tr>\n",
              "      <th>502</th>\n",
              "      <td>0.04527</td>\n",
              "      <td>0.0</td>\n",
              "      <td>11.93</td>\n",
              "      <td>0</td>\n",
              "      <td>0.573</td>\n",
              "      <td>6.120</td>\n",
              "      <td>76.7</td>\n",
              "      <td>2.2875</td>\n",
              "      <td>1</td>\n",
              "      <td>273</td>\n",
              "      <td>21.0</td>\n",
              "      <td>396.90</td>\n",
              "      <td>9.08</td>\n",
              "      <td>20.6</td>\n",
              "    </tr>\n",
              "    <tr>\n",
              "      <th>503</th>\n",
              "      <td>0.06076</td>\n",
              "      <td>0.0</td>\n",
              "      <td>11.93</td>\n",
              "      <td>0</td>\n",
              "      <td>0.573</td>\n",
              "      <td>6.976</td>\n",
              "      <td>91.0</td>\n",
              "      <td>2.1675</td>\n",
              "      <td>1</td>\n",
              "      <td>273</td>\n",
              "      <td>21.0</td>\n",
              "      <td>396.90</td>\n",
              "      <td>5.64</td>\n",
              "      <td>23.9</td>\n",
              "    </tr>\n",
              "    <tr>\n",
              "      <th>504</th>\n",
              "      <td>0.10959</td>\n",
              "      <td>0.0</td>\n",
              "      <td>11.93</td>\n",
              "      <td>0</td>\n",
              "      <td>0.573</td>\n",
              "      <td>6.794</td>\n",
              "      <td>89.3</td>\n",
              "      <td>2.3889</td>\n",
              "      <td>1</td>\n",
              "      <td>273</td>\n",
              "      <td>21.0</td>\n",
              "      <td>393.45</td>\n",
              "      <td>6.48</td>\n",
              "      <td>22.0</td>\n",
              "    </tr>\n",
              "    <tr>\n",
              "      <th>505</th>\n",
              "      <td>0.04741</td>\n",
              "      <td>0.0</td>\n",
              "      <td>11.93</td>\n",
              "      <td>0</td>\n",
              "      <td>0.573</td>\n",
              "      <td>6.030</td>\n",
              "      <td>80.8</td>\n",
              "      <td>2.5050</td>\n",
              "      <td>1</td>\n",
              "      <td>273</td>\n",
              "      <td>21.0</td>\n",
              "      <td>396.90</td>\n",
              "      <td>7.88</td>\n",
              "      <td>11.9</td>\n",
              "    </tr>\n",
              "  </tbody>\n",
              "</table>\n",
              "<p>506 rows × 14 columns</p>\n",
              "</div>\n",
              "      <button class=\"colab-df-convert\" onclick=\"convertToInteractive('df-aa4fa5f8-d239-4c7e-863e-7504fa7d466f')\"\n",
              "              title=\"Convert this dataframe to an interactive table.\"\n",
              "              style=\"display:none;\">\n",
              "        \n",
              "  <svg xmlns=\"http://www.w3.org/2000/svg\" height=\"24px\"viewBox=\"0 0 24 24\"\n",
              "       width=\"24px\">\n",
              "    <path d=\"M0 0h24v24H0V0z\" fill=\"none\"/>\n",
              "    <path d=\"M18.56 5.44l.94 2.06.94-2.06 2.06-.94-2.06-.94-.94-2.06-.94 2.06-2.06.94zm-11 1L8.5 8.5l.94-2.06 2.06-.94-2.06-.94L8.5 2.5l-.94 2.06-2.06.94zm10 10l.94 2.06.94-2.06 2.06-.94-2.06-.94-.94-2.06-.94 2.06-2.06.94z\"/><path d=\"M17.41 7.96l-1.37-1.37c-.4-.4-.92-.59-1.43-.59-.52 0-1.04.2-1.43.59L10.3 9.45l-7.72 7.72c-.78.78-.78 2.05 0 2.83L4 21.41c.39.39.9.59 1.41.59.51 0 1.02-.2 1.41-.59l7.78-7.78 2.81-2.81c.8-.78.8-2.07 0-2.86zM5.41 20L4 18.59l7.72-7.72 1.47 1.35L5.41 20z\"/>\n",
              "  </svg>\n",
              "      </button>\n",
              "      \n",
              "  <style>\n",
              "    .colab-df-container {\n",
              "      display:flex;\n",
              "      flex-wrap:wrap;\n",
              "      gap: 12px;\n",
              "    }\n",
              "\n",
              "    .colab-df-convert {\n",
              "      background-color: #E8F0FE;\n",
              "      border: none;\n",
              "      border-radius: 50%;\n",
              "      cursor: pointer;\n",
              "      display: none;\n",
              "      fill: #1967D2;\n",
              "      height: 32px;\n",
              "      padding: 0 0 0 0;\n",
              "      width: 32px;\n",
              "    }\n",
              "\n",
              "    .colab-df-convert:hover {\n",
              "      background-color: #E2EBFA;\n",
              "      box-shadow: 0px 1px 2px rgba(60, 64, 67, 0.3), 0px 1px 3px 1px rgba(60, 64, 67, 0.15);\n",
              "      fill: #174EA6;\n",
              "    }\n",
              "\n",
              "    [theme=dark] .colab-df-convert {\n",
              "      background-color: #3B4455;\n",
              "      fill: #D2E3FC;\n",
              "    }\n",
              "\n",
              "    [theme=dark] .colab-df-convert:hover {\n",
              "      background-color: #434B5C;\n",
              "      box-shadow: 0px 1px 3px 1px rgba(0, 0, 0, 0.15);\n",
              "      filter: drop-shadow(0px 1px 2px rgba(0, 0, 0, 0.3));\n",
              "      fill: #FFFFFF;\n",
              "    }\n",
              "  </style>\n",
              "\n",
              "      <script>\n",
              "        const buttonEl =\n",
              "          document.querySelector('#df-aa4fa5f8-d239-4c7e-863e-7504fa7d466f button.colab-df-convert');\n",
              "        buttonEl.style.display =\n",
              "          google.colab.kernel.accessAllowed ? 'block' : 'none';\n",
              "\n",
              "        async function convertToInteractive(key) {\n",
              "          const element = document.querySelector('#df-aa4fa5f8-d239-4c7e-863e-7504fa7d466f');\n",
              "          const dataTable =\n",
              "            await google.colab.kernel.invokeFunction('convertToInteractive',\n",
              "                                                     [key], {});\n",
              "          if (!dataTable) return;\n",
              "\n",
              "          const docLinkHtml = 'Like what you see? Visit the ' +\n",
              "            '<a target=\"_blank\" href=https://colab.research.google.com/notebooks/data_table.ipynb>data table notebook</a>'\n",
              "            + ' to learn more about interactive tables.';\n",
              "          element.innerHTML = '';\n",
              "          dataTable['output_type'] = 'display_data';\n",
              "          await google.colab.output.renderOutput(dataTable, element);\n",
              "          const docLink = document.createElement('div');\n",
              "          docLink.innerHTML = docLinkHtml;\n",
              "          element.appendChild(docLink);\n",
              "        }\n",
              "      </script>\n",
              "    </div>\n",
              "  </div>\n",
              "  "
            ],
            "text/plain": [
              "        crim    zn  indus  chas    nox     rm   age     dis  rad  tax  \\\n",
              "0    0.00632  18.0   2.31     0  0.538  6.575  65.2  4.0900    1  296   \n",
              "1    0.02731   0.0   7.07     0  0.469  6.421  78.9  4.9671    2  242   \n",
              "2    0.02729   0.0   7.07     0  0.469  7.185  61.1  4.9671    2  242   \n",
              "3    0.03237   0.0   2.18     0  0.458  6.998  45.8  6.0622    3  222   \n",
              "4    0.06905   0.0   2.18     0  0.458  7.147  54.2  6.0622    3  222   \n",
              "..       ...   ...    ...   ...    ...    ...   ...     ...  ...  ...   \n",
              "501  0.06263   0.0  11.93     0  0.573  6.593  69.1  2.4786    1  273   \n",
              "502  0.04527   0.0  11.93     0  0.573  6.120  76.7  2.2875    1  273   \n",
              "503  0.06076   0.0  11.93     0  0.573  6.976  91.0  2.1675    1  273   \n",
              "504  0.10959   0.0  11.93     0  0.573  6.794  89.3  2.3889    1  273   \n",
              "505  0.04741   0.0  11.93     0  0.573  6.030  80.8  2.5050    1  273   \n",
              "\n",
              "     ptratio   black  lstat  medv  \n",
              "0       15.3  396.90   4.98  24.0  \n",
              "1       17.8  396.90   9.14  21.6  \n",
              "2       17.8  392.83   4.03  34.7  \n",
              "3       18.7  394.63   2.94  33.4  \n",
              "4       18.7  396.90   5.33  36.2  \n",
              "..       ...     ...    ...   ...  \n",
              "501     21.0  391.99   9.67  22.4  \n",
              "502     21.0  396.90   9.08  20.6  \n",
              "503     21.0  396.90   5.64  23.9  \n",
              "504     21.0  393.45   6.48  22.0  \n",
              "505     21.0  396.90   7.88  11.9  \n",
              "\n",
              "[506 rows x 14 columns]"
            ]
          },
          "metadata": {},
          "execution_count": 6
        }
      ]
    },
    {
      "cell_type": "markdown",
      "source": [
        "Added Pandas library. Randomly selected dataset is read. Confirmed to be in tabular form. Duplicate index column removed."
      ],
      "metadata": {
        "id": "Sv1DAPtK3oB1"
      }
    },
    {
      "cell_type": "markdown",
      "source": [
        "#Step 2: Perform Exploratory Analysis & Visualization\n",
        "\n",
        "1. Explore distributions of numeric columns using histograms etc.\n",
        "2. Explore relationships between columns using scatter plots, bar charts etc.\n",
        "3. Make a note of interesting insights from the exploratory analysis\n"
      ],
      "metadata": {
        "id": "iuOt6Vrp83iw"
      }
    },
    {
      "cell_type": "code",
      "source": [
        "# 1. Explore distributions of numeric columns using histograms etc.\n",
        "data_numeric = data.drop(columns=['chas', 'rad'])\n",
        "\n",
        "data_numeric.hist()\n",
        "plt.tight_layout()"
      ],
      "metadata": {
        "id": "DDqpPEFM9lXT",
        "outputId": "768f1467-7b69-466c-fff6-9781a3664c09",
        "colab": {
          "base_uri": "https://localhost:8080/",
          "height": 297
        }
      },
      "execution_count": 7,
      "outputs": [
        {
          "output_type": "display_data",
          "data": {
            "image/png": "[encoded data removed]",
            "text/plain": [
              "<Figure size 432x288 with 12 Axes>"
            ]
          },
          "metadata": {
            "needs_background": "light"
          }
        }
      ]
    },
    {
      "cell_type": "code",
      "source": [
        "# 2. Explore relationships between columns using scatter plots, bar charts etc.\n",
        "plt.scatter( data_numeric.nox, data_numeric.tax)\n",
        "plt.title(\"Tax vs. Nox\")"
      ],
      "metadata": {
        "id": "dWeAJqZRCxRY",
        "outputId": "ee1266f1-4c6e-48db-d16f-b14870b9b9d6",
        "colab": {
          "base_uri": "https://localhost:8080/",
          "height": 300
        }
      },
      "execution_count": 8,
      "outputs": [
        {
          "output_type": "execute_result",
          "data": {
            "text/plain": [
              "Text(0.5, 1.0, 'Tax vs. Nox')"
            ]
          },
          "metadata": {},
          "execution_count": 8
        },
        {
          "output_type": "display_data",
          "data": {
            "image/png": "[encoded data removed]",
            "text/plain": [
              "<Figure size 432x288 with 1 Axes>"
            ]
          },
          "metadata": {
            "needs_background": "light"
          }
        }
      ]
    },
    {
      "cell_type": "markdown",
      "source": [
        "Where the amount of Nox starts to be more than the density, the amount of tax is also higher. However, there is no linear relationship between the two variables. \n",
        "\n"
      ],
      "metadata": {
        "id": "S4jJjhYeEMc-"
      }
    },
    {
      "cell_type": "code",
      "source": [
        "data_chas = data.groupby('chas').count()\n",
        "x = [0, 1]\n",
        "default_x_ticks = range(len(x))\n",
        "plt.xticks(default_x_ticks, x)\n",
        "plt.bar( [0, 1], data_chas.crim)"
      ],
      "metadata": {
        "id": "1h1NxvsmEOi5",
        "outputId": "eaafc7fe-37a2-4c14-9f0b-28768ace20fd",
        "colab": {
          "base_uri": "https://localhost:8080/",
          "height": 284
        }
      },
      "execution_count": 9,
      "outputs": [
        {
          "output_type": "execute_result",
          "data": {
            "text/plain": [
              "<BarContainer object of 2 artists>"
            ]
          },
          "metadata": {},
          "execution_count": 9
        },
        {
          "output_type": "display_data",
          "data": {
            "image/png": "[encoded data removed]",
            "text/plain": [
              "<Figure size 432x288 with 1 Axes>"
            ]
          },
          "metadata": {
            "needs_background": "light"
          }
        }
      ]
    },
    {
      "cell_type": "markdown",
      "source": [
        "Tract bounds are less than places with rivers compared to places without. "
      ],
      "metadata": {
        "id": "gKJ8z3dXPkCI"
      }
    },
    {
      "cell_type": "code",
      "source": [
        "# 3- Make a note of interesting insights from the exploratory analysis\n",
        "data = data.drop_duplicates()\n",
        "data = data.drop('chas', axis=1)\n",
        "data = data.rename(columns={\"crim\": \"Crim Rate\", \"zn\": \"Zoned Land Ratio\", \"indus\": \"Non-Retail Business\", \"nox\": \"Nitric Oxides Concentration\", \"rm\": \"Avg Number of Rooms\", \"age\": \"Old Buildings in Use\", \"dis\": \"Weighted Distances to Employment Centres\", \"rad\": \"Index of Accessibility\", \"tax\": \"Property-Tax Rate\", \"ptratio\": \"Pupil-Teacher Ratio\", \"black\": \"Blacks\", \"lstat\": \"Lower Status of the Population\", \"medv\": \"Median Value of Homes\"})\n",
        "print(data.isnull().sum()) # no missing value\n",
        "fig, ax = plt.subplots(figsize=(10,6))\n",
        "ax.scatter(data['Crim Rate'], data['Blacks'])\n",
        "ax.set_xlabel('Crime Rate')\n",
        "ax.set_ylabel('Black People in the Town')\n",
        "plt.show()"
      ],
      "metadata": {
        "id": "5FkDCSgT9mCc",
        "colab": {
          "base_uri": "https://localhost:8080/",
          "height": 647
        },
        "outputId": "6b3dc798-fbf4-4bda-aa0b-9dce8f462b40"
      },
      "execution_count": 10,
      "outputs": [
        {
          "output_type": "stream",
          "name": "stdout",
          "text": [
            "Crim Rate                                   0\n",
            "Zoned Land Ratio                            0\n",
            "Non-Retail Business                         0\n",
            "Nitric Oxides Concentration                 0\n",
            "Avg Number of Rooms                         0\n",
            "Old Buildings in Use                        0\n",
            "Weighted Distances to Employment Centres    0\n",
            "Index of Accessibility                      0\n",
            "Property-Tax Rate                           0\n",
            "Pupil-Teacher Ratio                         0\n",
            "Blacks                                      0\n",
            "Lower Status of the Population              0\n",
            "Median Value of Homes                       0\n",
            "dtype: int64\n"
          ]
        },
        {
          "output_type": "display_data",
          "data": {
            "image/png": "[encoded data removed]",
            "text/plain": [
              "<Figure size 720x432 with 1 Axes>"
            ]
          },
          "metadata": {
            "needs_background": "light"
          }
        }
      ]
    },
    {
      "cell_type": "markdown",
      "source": [
        "A step-by-step exploratory analysis was performed. Missing values and duplicate values were removed. Unnecessary or irrelevant columns were removed. Then, a scatter drawing was made on the Boston graph to observe whether there is a relationship between black people in the society and the crime rate. As a result, there is an ordinary crime percentage in the region where the increase of black people in the community. There is no correlation between the increase in black people and the increase in the crime rate. "
      ],
      "metadata": {
        "id": "6HPBBE6WTaOQ"
      }
    },
    {
      "cell_type": "markdown",
      "source": [
        "# Step 3: Exploration & Inference\n",
        "\n",
        "1. Ask at least 3 interesting questions about your dataset\n",
        "2. Answer the questions by computing the results by plotting graphs using Matplotlib\n",
        "3. Add concluding remarks\n"
      ],
      "metadata": {
        "id": "cr8mD-Uy9Wev"
      }
    },
    {
      "cell_type": "code",
      "source": [
        "\"\"\"\n",
        "Questions\n",
        "1- Can you plot a histogram to examine the relationship between the radial highway accessibility index and the crime rate?\n",
        "2- Can you analyze the effect of the change in population on the crime rate with a line graph?\n",
        "3- Can you examine the relationship between the number of rooms in zoned areas higher than 25 thousand square meters with a bar graph?\n",
        "What might the relationship between these two variables tell? \n",
        "\"\"\""
      ],
      "metadata": {
        "id": "tlxNC8Nj4CXo",
        "colab": {
          "base_uri": "https://localhost:8080/",
          "height": 55
        },
        "outputId": "27826714-2c75-4f20-c825-c6f219ac6659"
      },
      "execution_count": 11,
      "outputs": [
        {
          "output_type": "execute_result",
          "data": {
            "application/vnd.google.colaboratory.intrinsic+json": {
              "type": "string"
            },
            "text/plain": [
              "'\\nQuestions\\n1- Can you plot a histogram to examine the relationship between the radial highway accessibility index and the crime rate?\\n2- Can you analyze the effect of the change in population on the crime rate with a line graph?\\n3- Can you examine the relationship between the number of rooms in zoned areas higher than 25 thousand square meters with a bar graph?\\nWhat might the relationship between these two variables tell? \\n'"
            ]
          },
          "metadata": {},
          "execution_count": 11
        }
      ]
    },
    {
      "cell_type": "code",
      "source": [
        "# 1- Can you plot a histogram to examine the relationship between the radial highway accessibility index and the crime rate?\n",
        "data = data.rename(columns={'Crim Rate': 'crime_rate', 'Index of Accessibility': 'index', 'Lower Status of the Population':'population', 'Avg Number of Rooms':'rooms', 'Zoned Land Ratio':'land_ratio'})\n",
        "plt.hist(data.crime_rate, data.index)\n",
        "plt.xlim(0,20)\n",
        "plt.show()"
      ],
      "metadata": {
        "colab": {
          "base_uri": "https://localhost:8080/",
          "height": 265
        },
        "id": "QlBvs2o95s2x",
        "outputId": "e186265b-2f26-49b3-d923-c09e08fd08ec"
      },
      "execution_count": 37,
      "outputs": [
        {
          "output_type": "display_data",
          "data": {
            "image/png": "[encoded data removed]",
            "text/plain": [
              "<Figure size 432x288 with 1 Axes>"
            ]
          },
          "metadata": {
            "needs_background": "light"
          }
        }
      ]
    },
    {
      "cell_type": "code",
      "source": [
        "# 2- Can you analyze the effect of the change in population on the crime rate with a line graph?\n",
        "plt.plot(data.population, data.crime_rate)\n",
        "plt.title('Crime Rate vs Population')\n",
        "plt.xlabel('Population')\n",
        "plt.ylabel('Crime Rate')\n",
        "plt.show()"
      ],
      "metadata": {
        "colab": {
          "base_uri": "https://localhost:8080/",
          "height": 295
        },
        "id": "CrRQSLYN9Y1R",
        "outputId": "b7e7c29a-0d93-4793-f071-b5da804c44fe"
      },
      "execution_count": 35,
      "outputs": [
        {
          "output_type": "display_data",
          "data": {
            "image/png": "[encoded data removed]",
            "text/plain": [
              "<Figure size 432x288 with 1 Axes>"
            ]
          },
          "metadata": {
            "needs_background": "light"
          }
        }
      ]
    },
    {
      "cell_type": "markdown",
      "source": [
        "As the population increased to a certain point, there was an increase in the crime rate. There are jumps in crime rate at various points. In general, there is crime in every language."
      ],
      "metadata": {
        "id": "JSCD4uO4_2zh"
      }
    },
    {
      "cell_type": "code",
      "source": [
        "# 3- Can you examine the relationship between the number of rooms in zoned areas higher than 25 thousand square meters with a bar graph?\n",
        "plt.bar(data.rooms, data.land_ratio)"
      ],
      "metadata": {
        "colab": {
          "base_uri": "https://localhost:8080/",
          "height": 284
        },
        "id": "dL1uVUR3-pIa",
        "outputId": "e28d956a-41d9-4a7b-9061-59cd0577386e"
      },
      "execution_count": 40,
      "outputs": [
        {
          "output_type": "execute_result",
          "data": {
            "text/plain": [
              "<BarContainer object of 506 artists>"
            ]
          },
          "metadata": {},
          "execution_count": 40
        },
        {
          "output_type": "display_data",
          "data": {
            "image/png": "[encoded data removed]",
            "text/plain": [
              "<Figure size 432x288 with 1 Axes>"
            ]
          },
          "metadata": {
            "needs_background": "light"
          }
        }
      ]
    },
    {
      "cell_type": "markdown",
      "source": [
        "After the number of rooms exceeded 8 in the zoned areas larger than 25 thousand square meters, a decrease of 80% was observed. It varies between 80% and 95% in the remaining areas."
      ],
      "metadata": {
        "id": "XjygF4xC_5WR"
      }
    },
    {
      "cell_type": "markdown",
      "source": [
        "**Concluding Remarks**\n",
        "\n",
        "In this article, Boston.csv data was analyzed using matplotlib and pandas library. While doing this, the desired columns are taken with iloc. All values are listed comparatively with the histogram graph. Apart from this, the relationship between tax and nox values was examined using a scatter plot. Then the bar graph was drawn using groupby. Various repetitive and missing values were removed. In the last part, 3 graphs such as histogram, line and bar were created and examined."
      ],
      "metadata": {
        "id": "MSewljZuAOs7"
      }
    }
  ]
}